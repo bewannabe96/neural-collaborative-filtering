{
 "cells": [
  {
   "metadata": {
    "ExecuteTime": {
     "end_time": "2024-08-22T07:28:16.879805Z",
     "start_time": "2024-08-22T07:28:16.872501Z"
    }
   },
   "cell_type": "code",
   "source": [
    "region='ap-northeast-2'\n",
    "bucket = 'daytrip-ai-service'\n",
    "role = \"arn:aws:iam::742627718059:role/DayTripAISagemaker\"\n",
    "\n",
    "print('Region: {}'.format(region))\n",
    "print('Bucket: {}'.format(bucket))\n",
    "print('Role: {}'.format(role))"
   ],
   "id": "d54d8c329469644f",
   "outputs": [
    {
     "name": "stdout",
     "output_type": "stream",
     "text": [
      "Region: ap-northeast-2\n",
      "Bucket: daytrip-ai-service\n",
      "Role: arn:aws:iam::742627718059:role/DayTripAISagemaker\n"
     ]
    }
   ],
   "execution_count": 20
  },
  {
   "metadata": {
    "ExecuteTime": {
     "end_time": "2024-08-22T07:28:17.150317Z",
     "start_time": "2024-08-22T07:28:17.145643Z"
    }
   },
   "cell_type": "code",
   "source": [
    "dataset = \"daylog-pref-v3\"\n",
    "mlp_layer = 4\n",
    "predictive_factor = 64\n",
    "model_name = f'neumf-{dataset}-{mlp_layer}-{predictive_factor}'\n",
    "pascal_model_name = 'NeuMFDaylogPrefV3'\n",
    "\n",
    "model_package_group_name = model_name\n",
    "project_prefix = model_name\n",
    "\n",
    "print('Model package group name: {}'.format(model_package_group_name))\n",
    "print('Project prefix: {}'.format(project_prefix))"
   ],
   "id": "95cca1c9f26a8d0c",
   "outputs": [
    {
     "name": "stdout",
     "output_type": "stream",
     "text": [
      "Model package group name: neumf-daylog-pref-v3-4-64\n",
      "Project prefix: neumf-daylog-pref-v3-4-64\n"
     ]
    }
   ],
   "execution_count": 21
  },
  {
   "metadata": {
    "ExecuteTime": {
     "end_time": "2024-08-22T07:28:17.523793Z",
     "start_time": "2024-08-22T07:28:17.403178Z"
    }
   },
   "cell_type": "code",
   "source": [
    "import boto3\n",
    "from sagemaker.workflow.pipeline_context import PipelineSession\n",
    "\n",
    "boto_session = boto3.Session(region_name=region)\n",
    "pipeline_session = PipelineSession(boto_session=boto_session, default_bucket=bucket)"
   ],
   "id": "7a626c208ad9b811",
   "outputs": [
    {
     "name": "stderr",
     "output_type": "stream",
     "text": [
      "INFO:botocore.credentials:Found credentials in shared credentials file: ~/.aws/credentials\n"
     ]
    }
   ],
   "execution_count": 22
  },
  {
   "metadata": {
    "ExecuteTime": {
     "end_time": "2024-08-22T07:28:17.669751Z",
     "start_time": "2024-08-22T07:28:17.667779Z"
    }
   },
   "cell_type": "code",
   "source": "source_dir = '../code'",
   "id": "9f83f4830f8de64e",
   "outputs": [],
   "execution_count": 23
  },
  {
   "metadata": {
    "ExecuteTime": {
     "end_time": "2024-08-22T07:28:18.374217Z",
     "start_time": "2024-08-22T07:28:18.221498Z"
    }
   },
   "cell_type": "code",
   "source": [
    "import tarfile\n",
    "\n",
    "with tarfile.open('source.tar.gz', 'w:gz') as tar:\n",
    "    tar.add(source_dir, arcname='.')\n",
    "    \n",
    "source_artifact = pipeline_session.upload_data('source.tar.gz', bucket, f'{project_prefix}/source')\n",
    "repackage_code = pipeline_session.upload_data('./repackage.py', bucket, f'{project_prefix}/source')\n",
    "print(\"Source artifact: {}\".format(source_artifact))\n",
    "print(\"Repackage code: {}\".format(repackage_code))\n"
   ],
   "id": "7e21511fcddbc683",
   "outputs": [
    {
     "name": "stdout",
     "output_type": "stream",
     "text": [
      "Source artifact: s3://daytrip-ai-service/neumf-daylog-pref-v3-4-64/source/source.tar.gz\n",
      "Repackage code: s3://daytrip-ai-service/neumf-daylog-pref-v3-4-64/source/repackage.py\n"
     ]
    }
   ],
   "execution_count": 24
  },
  {
   "metadata": {
    "ExecuteTime": {
     "end_time": "2024-08-22T07:28:18.745865Z",
     "start_time": "2024-08-22T07:28:18.732301Z"
    }
   },
   "cell_type": "code",
   "source": [
    "from sagemaker.pytorch.estimator import PyTorch as PyTorchEstimator\n",
    "from sagemaker.inputs import TrainingInput\n",
    "from sagemaker.workflow.steps import TrainingStep\n",
    "from sagemaker.workflow.steps import CacheConfig\n",
    "\n",
    "train_instance_type = 'ml.g4dn.8xlarge'\n",
    "train_instance_count = 1\n",
    "train_output_path = f's3://{bucket}/{project_prefix}/train'\n",
    "\n",
    "estimator = PyTorchEstimator(\n",
    "    sagemaker_session=pipeline_session,\n",
    "    role=role,\n",
    "    source_dir=source_artifact,\n",
    "    entry_point='train.py',\n",
    "    instance_type=train_instance_type,\n",
    "    instance_count=train_instance_count,\n",
    "    py_version='py310',\n",
    "    framework_version='2.2.0',\n",
    "    output_path=train_output_path,\n",
    "    hyperparameters={\n",
    "        'device': 'cuda',\n",
    "\n",
    "        'model-name': model_name,\n",
    "        'mlp-layer': mlp_layer,\n",
    "        'predictive-factor': predictive_factor,\n",
    "\n",
    "        'negative-sample-ratio': 4,\n",
    "\n",
    "        'epochs': 60,\n",
    "        'batch-size': 256,\n",
    "        'lr': 0.002,\n",
    "\n",
    "        'eval-k': 10\n",
    "    },\n",
    "    metric_definitions=[\n",
    "        {'Name': 'HR@10', 'Regex': 'HR@10\\/validation=(.*?);'},\n",
    "        {'Name': 'mAP@10', 'Regex': 'mAP@10\\/validation=(.*?);'},\n",
    "        {'Name': 'nDCG@10', 'Regex': 'nDCG@10\\/validation=(.*?);'},\n",
    "        {'Name': 'LOSS', 'Regex': 'LOSS\\/train=(.*?);'},\n",
    "    ],\n",
    "    disable_profiler = True,\n",
    ")\n",
    "\n",
    "training_step = TrainingStep(\n",
    "    name=pascal_model_name+\"-Training\",\n",
    "    estimator=estimator,\n",
    "    inputs={\n",
    "        'train': TrainingInput(s3_data=f's3://{bucket}/dataset/{dataset}/train'),\n",
    "        'validation': TrainingInput(s3_data=f's3://{bucket}/dataset/{dataset}/validation'),\n",
    "    },\n",
    "    # cache_config=CacheConfig(enable_caching=True, expire_after='1d'),\n",
    ")\n"
   ],
   "id": "7f1a2c8d4fae48f4",
   "outputs": [],
   "execution_count": 25
  },
  {
   "metadata": {
    "ExecuteTime": {
     "end_time": "2024-08-22T07:28:19.219565Z",
     "start_time": "2024-08-22T07:28:19.215445Z"
    }
   },
   "cell_type": "code",
   "source": [
    "import time\n",
    "from sagemaker.processing import ProcessingInput, ProcessingOutput\n",
    "from sagemaker.workflow.steps import ProcessingStep\n",
    "from sagemaker import ScriptProcessor\n",
    "\n",
    "repack_image_uri = f'763104351884.dkr.ecr.{region}.amazonaws.com/pytorch-training:2.2.0-gpu-py310'\n",
    "repack_instance_type = 'ml.m5.xlarge'\n",
    "repack_output_path = f's3://{bucket}/{project_prefix}/repack'\n",
    "\n",
    "script_processor = ScriptProcessor(\n",
    "    sagemaker_session=pipeline_session,\n",
    "    role=role,\n",
    "    image_uri=repack_image_uri,\n",
    "    command=['python3'],\n",
    "    instance_type=repack_instance_type,\n",
    "    instance_count=1,\n",
    ")\n",
    "\n",
    "repack_output = ProcessingOutput(\n",
    "    output_name='repack',\n",
    "    source='/opt/ml/processing/output',\n",
    "    destination=f'{repack_output_path}/repack-{time.strftime(\"%Y%m%d-%H%M%S\")}',\n",
    ")\n",
    "\n",
    "repack_step = ProcessingStep(\n",
    "    name=pascal_model_name+'-Repack',\n",
    "    processor=script_processor,\n",
    "    inputs=[\n",
    "        ProcessingInput(source=training_step.properties.ModelArtifacts.S3ModelArtifacts, destination='/opt/ml/processing/model'),\n",
    "        ProcessingInput(source=source_artifact, destination='/opt/ml/processing/source')\n",
    "    ],\n",
    "    outputs=[\n",
    "        ProcessingOutput(\n",
    "            output_name='repack',\n",
    "            source='/opt/ml/processing/output',\n",
    "            destination=f'{repack_output_path}/repack-{time.strftime(\"%Y%m%d-%H%M%S\")}',\n",
    "        ),\n",
    "    ],\n",
    "    code=repackage_code,\n",
    "    # cache_config=CacheConfig(enable_caching=True, expire_after='1d'),\n",
    "    depends_on=[training_step],\n",
    ")"
   ],
   "id": "24df6523749b1b5e",
   "outputs": [],
   "execution_count": 26
  },
  {
   "metadata": {
    "ExecuteTime": {
     "end_time": "2024-08-22T07:28:20.005874Z",
     "start_time": "2024-08-22T07:28:20.002026Z"
    }
   },
   "cell_type": "code",
   "source": [
    "from sagemaker.workflow.functions import Join\n",
    "from sagemaker.workflow.model_step import ModelStep\n",
    "from sagemaker import Model\n",
    "\n",
    "model_image_uri = f'763104351884.dkr.ecr.{region}.amazonaws.com/pytorch-inference:2.2.0-gpu-py310'\n",
    "model_instance_type = 'ml.g4dn.4xlarge'\n",
    "accelerator_instance_type= 'ml.eia1.medium'\n",
    "model_data = Join(on='/', values=[repack_step.properties.ProcessingOutputConfig.Outputs['repack'].S3Output.S3Uri, 'model.tar.gz'])\n",
    "\n",
    "# model_metrics = ModelMetrics(\n",
    "#     model_statistics=MetricsSource(\n",
    "#         s3_uri=\"{}/evaluation.json\".format(\n",
    "#             step_eval.arguments[\"ProcessingOutputConfig\"][\"Outputs\"][0][\"S3Output\"][\"S3Uri\"]\n",
    "#         ),\n",
    "#         content_type=\"application/json\"\n",
    "#     )\n",
    "# )\n",
    "\n",
    "model = Model(\n",
    "    sagemaker_session=pipeline_session,\n",
    "    role=role,\n",
    "    image_uri=model_image_uri,\n",
    "    model_data=model_data,\n",
    ")\n",
    "\n",
    "model_register_step_args = model.register(\n",
    "    model_package_group_name=model_package_group_name,\n",
    "    content_types=['application/json'],\n",
    "    response_types=['application/json'],\n",
    "    inference_instances=[model_instance_type],\n",
    "    transform_instances=[model_instance_type],\n",
    "    approval_status='PendingManualApproval',\n",
    ")\n",
    "\n",
    "model_register_step = ModelStep(\n",
    "    name=pascal_model_name,\n",
    "    step_args=model_register_step_args,\n",
    "    depends_on=[repack_step],\n",
    ")"
   ],
   "id": "abf08a9d52109d81",
   "outputs": [],
   "execution_count": 27
  },
  {
   "metadata": {
    "ExecuteTime": {
     "end_time": "2024-08-22T07:28:22.940588Z",
     "start_time": "2024-08-22T07:28:21.873593Z"
    }
   },
   "cell_type": "code",
   "source": [
    "from sagemaker.workflow.pipeline import Pipeline\n",
    "\n",
    "pipeline_name = pascal_model_name + '-Train-Pipeline'\n",
    "pipeline = Pipeline(\n",
    "    name=pipeline_name,\n",
    "    sagemaker_session=pipeline_session,\n",
    "    steps=[training_step, repack_step, model_register_step],\n",
    ")\n",
    "\n",
    "pipeline.upsert(role_arn=role)"
   ],
   "id": "3e52fb68a5cb40a",
   "outputs": [
    {
     "name": "stderr",
     "output_type": "stream",
     "text": [
      "INFO:sagemaker.image_uris:image_uri is not presented, retrieving image_uri based on instance_type, framework etc.\n",
      "INFO:sagemaker.image_uris:image_uri is not presented, retrieving image_uri based on instance_type, framework etc.\n",
      "WARNING:sagemaker.workflow.utilities:Popping out 'TrainingJobName' from the pipeline definition by default since it will be overridden at pipeline execution time. Please utilize the PipelineDefinitionConfig to persist this field in the pipeline definition if desired.\n",
      "WARNING:sagemaker.workflow.utilities:Popping out 'ProcessingJobName' from the pipeline definition by default since it will be overridden at pipeline execution time. Please utilize the PipelineDefinitionConfig to persist this field in the pipeline definition if desired.\n",
      "WARNING:sagemaker.workflow._utils:Popping out 'CertifyForMarketplace' from the pipeline definition since it will be overridden in pipeline execution time.\n",
      "WARNING:sagemaker.workflow.utilities:Popping out 'ModelPackageName' from the pipeline definition by default since it will be overridden at pipeline execution time. Please utilize the PipelineDefinitionConfig to persist this field in the pipeline definition if desired.\n",
      "INFO:sagemaker.image_uris:image_uri is not presented, retrieving image_uri based on instance_type, framework etc.\n",
      "WARNING:sagemaker.workflow.utilities:Popping out 'TrainingJobName' from the pipeline definition by default since it will be overridden at pipeline execution time. Please utilize the PipelineDefinitionConfig to persist this field in the pipeline definition if desired.\n",
      "WARNING:sagemaker.workflow.utilities:Popping out 'ProcessingJobName' from the pipeline definition by default since it will be overridden at pipeline execution time. Please utilize the PipelineDefinitionConfig to persist this field in the pipeline definition if desired.\n",
      "WARNING:sagemaker.workflow.utilities:Popping out 'ModelPackageName' from the pipeline definition by default since it will be overridden at pipeline execution time. Please utilize the PipelineDefinitionConfig to persist this field in the pipeline definition if desired.\n"
     ]
    },
    {
     "data": {
      "text/plain": [
       "{'PipelineArn': 'arn:aws:sagemaker:ap-northeast-2:742627718059:pipeline/NeuMFDaylogPrefV3-Train-Pipeline',\n",
       " 'ResponseMetadata': {'RequestId': 'e88d47fe-9928-4143-bc92-bf107abf0b34',\n",
       "  'HTTPStatusCode': 200,\n",
       "  'HTTPHeaders': {'x-amzn-requestid': 'e88d47fe-9928-4143-bc92-bf107abf0b34',\n",
       "   'content-type': 'application/x-amz-json-1.1',\n",
       "   'content-length': '105',\n",
       "   'date': 'Thu, 22 Aug 2024 07:28:22 GMT'},\n",
       "  'RetryAttempts': 0}}"
      ]
     },
     "execution_count": 28,
     "metadata": {},
     "output_type": "execute_result"
    }
   ],
   "execution_count": 28
  },
  {
   "metadata": {
    "ExecuteTime": {
     "end_time": "2024-08-22T06:43:09.443514Z",
     "start_time": "2024-08-22T06:43:09.144646Z"
    }
   },
   "cell_type": "code",
   "source": "pipeline.start()",
   "id": "6715334450fb6f08",
   "outputs": [
    {
     "data": {
      "text/plain": [
       "_PipelineExecution(arn='arn:aws:sagemaker:ap-northeast-2:742627718059:pipeline/NeuMFDaylogPrefV3-Train-Pipeline/execution/jisn12bfqv5l', sagemaker_session=<sagemaker.workflow.pipeline_context.PipelineSession object at 0x105357f40>)"
      ]
     },
     "execution_count": 19,
     "metadata": {},
     "output_type": "execute_result"
    }
   ],
   "execution_count": 19
  },
  {
   "metadata": {},
   "cell_type": "code",
   "outputs": [],
   "execution_count": null,
   "source": "",
   "id": "73f1812bb95b01b5"
  }
 ],
 "metadata": {
  "kernelspec": {
   "display_name": "Python 3",
   "language": "python",
   "name": "python3"
  },
  "language_info": {
   "codemirror_mode": {
    "name": "ipython",
    "version": 2
   },
   "file_extension": ".py",
   "mimetype": "text/x-python",
   "name": "python",
   "nbconvert_exporter": "python",
   "pygments_lexer": "ipython2",
   "version": "2.7.6"
  }
 },
 "nbformat": 4,
 "nbformat_minor": 5
}
