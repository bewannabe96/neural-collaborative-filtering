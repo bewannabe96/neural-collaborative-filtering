{
 "cells": [
  {
   "metadata": {
    "ExecuteTime": {
     "end_time": "2024-08-20T09:31:24.780769Z",
     "start_time": "2024-08-20T09:31:24.776894Z"
    }
   },
   "cell_type": "code",
   "source": [
    "region='ap-northeast-2'\n",
    "bucket = 'daytrip-ai-service'\n",
    "role = \"arn:aws:iam::742627718059:role/DayTripAISagemaker\"\n",
    "\n",
    "print('Region: {}'.format(region))\n",
    "print('Bucket: {}'.format(bucket))\n",
    "print('Role: {}'.format(role))"
   ],
   "id": "58f32170d2e57889",
   "outputs": [
    {
     "name": "stdout",
     "output_type": "stream",
     "text": [
      "Region: ap-northeast-2\n",
      "Bucket: daytrip-ai-service\n",
      "Role: arn:aws:iam::742627718059:role/DayTripAISagemaker\n"
     ]
    }
   ],
   "execution_count": 1
  },
  {
   "metadata": {
    "ExecuteTime": {
     "end_time": "2024-08-20T09:31:24.783396Z",
     "start_time": "2024-08-20T09:31:24.781715Z"
    }
   },
   "cell_type": "code",
   "source": [
    "dataset = \"daylog-pref-v3\"\n",
    "mlp_layer = 4\n",
    "predictive_factor = 64\n",
    "model_name = f'neumf-{dataset}-{mlp_layer}-{predictive_factor}'\n",
    "pascal_model_name = 'NeuMFDaylogPrefV3'\n",
    "\n",
    "model_package_group_name = model_name\n",
    "project_prefix = model_name\n",
    "\n",
    "print('Model package group name: {}'.format(model_package_group_name))\n",
    "print('Project prefix: {}'.format(project_prefix))"
   ],
   "id": "faf61d31cca2aded",
   "outputs": [
    {
     "name": "stdout",
     "output_type": "stream",
     "text": [
      "Model package group name: neumf-daylog-pref-v3-4-64\n",
      "Project prefix: neumf-daylog-pref-v3-4-64\n"
     ]
    }
   ],
   "execution_count": 2
  },
  {
   "metadata": {
    "ExecuteTime": {
     "end_time": "2024-08-20T09:31:25.341134Z",
     "start_time": "2024-08-20T09:31:24.783921Z"
    }
   },
   "cell_type": "code",
   "source": [
    "import boto3\n",
    "from sagemaker.workflow.pipeline_context import PipelineSession\n",
    "\n",
    "boto_session = boto3.Session(region_name=region)\n",
    "pipeline_session = PipelineSession(boto_session=boto_session, default_bucket=bucket)"
   ],
   "id": "7d68c5253764a042",
   "outputs": [
    {
     "name": "stdout",
     "output_type": "stream",
     "text": [
      "sagemaker.config INFO - Not applying SDK defaults from location: /opt/homebrew/share/sagemaker/config.yaml\n",
      "sagemaker.config INFO - Not applying SDK defaults from location: /Users/sookhyun/Library/Application Support/sagemaker/config.yaml\n"
     ]
    }
   ],
   "execution_count": 3
  },
  {
   "metadata": {
    "ExecuteTime": {
     "end_time": "2024-08-20T09:31:25.481561Z",
     "start_time": "2024-08-20T09:31:25.341770Z"
    }
   },
   "cell_type": "code",
   "source": [
    "approve_model_code = pipeline_session.upload_data('./approve_model.py', bucket, f'{project_prefix}/source')\n",
    "deploy_model_code = pipeline_session.upload_data('./deploy_model.py', bucket, f'{project_prefix}/source')\n",
    "print('Approve Model Code: {}'.format(approve_model_code))\n",
    "print('Deploy Model Code: {}'.format(deploy_model_code))"
   ],
   "id": "e69225a408facddd",
   "outputs": [
    {
     "name": "stdout",
     "output_type": "stream",
     "text": [
      "Approve Model Code: s3://daytrip-ai-service/neumf-daylog-pref-v3-4-64/source/approve_model.py\n",
      "Deploy Model Code: s3://daytrip-ai-service/neumf-daylog-pref-v3-4-64/source/deploy_model.py\n"
     ]
    }
   ],
   "execution_count": 4
  },
  {
   "metadata": {
    "ExecuteTime": {
     "end_time": "2024-08-20T09:31:25.596778Z",
     "start_time": "2024-08-20T09:31:25.483368Z"
    }
   },
   "cell_type": "code",
   "source": [
    "from sagemaker.workflow.lambda_step import LambdaStep, LambdaOutputTypeEnum, LambdaOutput\n",
    "from sagemaker.lambda_helper import Lambda\n",
    "\n",
    "func_approve_model = Lambda(\n",
    "    function_name='sagemaker-approve-model',\n",
    "    execution_role_arn=role,\n",
    "    script='approve_model.py',\n",
    "    handler='approve_model.handler',\n",
    ")\n",
    "\n",
    "model_approve_step = LambdaStep(\n",
    "    name=pascal_model_name+'-Approve',\n",
    "    lambda_func=func_approve_model,\n",
    "    inputs={\n",
    "        'model_package_group_name': model_package_group_name,\n",
    "    },\n",
    "    outputs=[\n",
    "        LambdaOutput(output_name=\"statusCode\", output_type=LambdaOutputTypeEnum.String),\n",
    "        LambdaOutput(output_name=\"modelPackageArn\", output_type=LambdaOutputTypeEnum.String),\n",
    "    ],\n",
    ")"
   ],
   "id": "8a51f048247ace54",
   "outputs": [],
   "execution_count": 5
  },
  {
   "metadata": {
    "ExecuteTime": {
     "end_time": "2024-08-20T09:31:25.654189Z",
     "start_time": "2024-08-20T09:31:25.597415Z"
    }
   },
   "cell_type": "code",
   "source": [
    "from sagemaker.workflow.lambda_step import LambdaStep, LambdaOutputTypeEnum, LambdaOutput\n",
    "from sagemaker.lambda_helper import Lambda\n",
    "\n",
    "func_deploy_model = Lambda(\n",
    "    function_name='sagemaker-deploy-model',\n",
    "    execution_role_arn=role,\n",
    "    script='deploy_model.py',\n",
    "    handler='deploy_model.handler',\n",
    ")\n",
    "\n",
    "model_deploy_step = LambdaStep(\n",
    "    name=pascal_model_name+'-Deploy',\n",
    "    lambda_func=func_deploy_model,\n",
    "    inputs={\n",
    "        'model_name': model_name,\n",
    "        'role': role,\n",
    "        'model_package_arn': model_approve_step.properties.Outputs['modelPackageArn'],\n",
    "        'instance_type': 'ml.g4dn.4xlarge',\n",
    "    },\n",
    "    outputs=[],\n",
    ")"
   ],
   "id": "287d69634f01b354",
   "outputs": [],
   "execution_count": 6
  },
  {
   "metadata": {
    "ExecuteTime": {
     "end_time": "2024-08-20T09:31:25.658261Z",
     "start_time": "2024-08-20T09:31:25.654843Z"
    }
   },
   "cell_type": "code",
   "source": [
    "from sagemaker.workflow.condition_step import ConditionStep\n",
    "from sagemaker.workflow.conditions import ConditionEquals\n",
    "\n",
    "condition_step = ConditionStep(\n",
    "    name=pascal_model_name+'-ApproveStatusCheck',\n",
    "    conditions=[\n",
    "        ConditionEquals(\n",
    "            left=model_approve_step.properties.Outputs['statusCode'],\n",
    "            right=200,\n",
    "        ),\n",
    "    ],\n",
    "    if_steps=[model_deploy_step],\n",
    "    else_steps=[],\n",
    "    depends_on=[model_approve_step],\n",
    ")\n"
   ],
   "id": "66bdc054046d0bee",
   "outputs": [],
   "execution_count": 7
  },
  {
   "metadata": {
    "ExecuteTime": {
     "end_time": "2024-08-20T09:31:28.588583Z",
     "start_time": "2024-08-20T09:31:25.659043Z"
    }
   },
   "cell_type": "code",
   "source": [
    "from sagemaker.workflow.pipeline import Pipeline\n",
    "\n",
    "pipeline_name = pascal_model_name + '-Deploy-Pipeline'\n",
    "pipeline = Pipeline(\n",
    "    name=pipeline_name,\n",
    "    sagemaker_session=pipeline_session,\n",
    "    steps=[model_approve_step, condition_step],\n",
    ")\n",
    "\n",
    "pipeline.upsert(role_arn=role)"
   ],
   "id": "a0c18b9c7a5beee1",
   "outputs": [
    {
     "data": {
      "text/plain": [
       "{'PipelineArn': 'arn:aws:sagemaker:ap-northeast-2:742627718059:pipeline/NeuMFDaylogPrefV3-Deploy-Pipeline',\n",
       " 'ResponseMetadata': {'RequestId': '6e55ce2f-8a5a-4ceb-a181-866d7fd727e3',\n",
       "  'HTTPStatusCode': 200,\n",
       "  'HTTPHeaders': {'x-amzn-requestid': '6e55ce2f-8a5a-4ceb-a181-866d7fd727e3',\n",
       "   'content-type': 'application/x-amz-json-1.1',\n",
       "   'content-length': '106',\n",
       "   'date': 'Tue, 20 Aug 2024 09:31:28 GMT'},\n",
       "  'RetryAttempts': 0}}"
      ]
     },
     "execution_count": 8,
     "metadata": {},
     "output_type": "execute_result"
    }
   ],
   "execution_count": 8
  },
  {
   "metadata": {
    "ExecuteTime": {
     "end_time": "2024-08-20T09:31:28.892028Z",
     "start_time": "2024-08-20T09:31:28.591276Z"
    }
   },
   "cell_type": "code",
   "source": "pipeline.start()",
   "id": "cca2a8c1aa4caee2",
   "outputs": [
    {
     "data": {
      "text/plain": [
       "_PipelineExecution(arn='arn:aws:sagemaker:ap-northeast-2:742627718059:pipeline/NeuMFDaylogPrefV3-Deploy-Pipeline/execution/64v9nlc4pone', sagemaker_session=<sagemaker.workflow.pipeline_context.PipelineSession object at 0x105e23ee0>)"
      ]
     },
     "execution_count": 9,
     "metadata": {},
     "output_type": "execute_result"
    }
   ],
   "execution_count": 9
  },
  {
   "metadata": {
    "ExecuteTime": {
     "end_time": "2024-08-20T09:31:28.900537Z",
     "start_time": "2024-08-20T09:31:28.895588Z"
    }
   },
   "cell_type": "code",
   "source": "",
   "id": "dff66921215efaab",
   "outputs": [],
   "execution_count": 9
  }
 ],
 "metadata": {
  "kernelspec": {
   "display_name": "Python 3",
   "language": "python",
   "name": "python3"
  },
  "language_info": {
   "codemirror_mode": {
    "name": "ipython",
    "version": 2
   },
   "file_extension": ".py",
   "mimetype": "text/x-python",
   "name": "python",
   "nbconvert_exporter": "python",
   "pygments_lexer": "ipython2",
   "version": "2.7.6"
  }
 },
 "nbformat": 4,
 "nbformat_minor": 5
}
