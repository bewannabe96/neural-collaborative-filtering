{
 "cells": [
  {
   "cell_type": "code",
   "id": "823e1d4351d93254",
   "metadata": {
    "collapsed": true,
    "ExecuteTime": {
     "end_time": "2024-05-16T06:02:40.784914Z",
     "start_time": "2024-05-16T06:02:40.776432Z"
    }
   },
   "source": [
    "import pandas as pd\n",
    "import numpy as np\n",
    "import sklearn.model_selection\n",
    "import scipy.sparse as sp"
   ],
   "outputs": [],
   "execution_count": 17
  },
  {
   "metadata": {
    "ExecuteTime": {
     "end_time": "2024-05-16T06:02:42.441525Z",
     "start_time": "2024-05-16T06:02:42.331609Z"
    }
   },
   "cell_type": "code",
   "source": [
    "dataset = pd.read_csv('ml-100k/u.data', sep=\"\\t\", names=['user_id', 'item_id'], usecols=[0, 1], dtype={0: np.int32, 1: np.int32}, header=None)\n",
    "\n",
    "dataset['user_id'] = dataset['user_id'].apply(lambda x: x-1)\n",
    "dataset['item_id'] = dataset['item_id'].apply(lambda x: x-1)"
   ],
   "id": "initial_id",
   "outputs": [],
   "execution_count": 18
  },
  {
   "metadata": {
    "ExecuteTime": {
     "end_time": "2024-05-16T06:02:42.720450Z",
     "start_time": "2024-05-16T06:02:42.658406Z"
    }
   },
   "cell_type": "code",
   "source": [
    "row_ind = dataset['user_id']\n",
    "col_ind = dataset['item_id']\n",
    "data = np.ones(len(row_ind))\n",
    "\n",
    "dataset_array = sp.csr_matrix((data, (row_ind, col_ind)), shape=(964, 1682)).toarray()\n",
    "negative_dataset = np.argwhere(dataset_array == 0)\n",
    "negative_dataset = pd.DataFrame(negative_dataset, columns=[\"user_id\", \"item_id\"])\n",
    "# negative_dataset.to_numpy()"
   ],
   "id": "62528d8cd127af39",
   "outputs": [],
   "execution_count": 19
  },
  {
   "metadata": {
    "ExecuteTime": {
     "end_time": "2024-05-16T06:02:44.525935Z",
     "start_time": "2024-05-16T06:02:44.514416Z"
    }
   },
   "cell_type": "code",
   "source": "train_dataset, val_dataset = sklearn.model_selection.train_test_split(dataset, test_size=0.2)",
   "id": "3b0439ddbb52cbac",
   "outputs": [],
   "execution_count": 20
  },
  {
   "metadata": {
    "ExecuteTime": {
     "end_time": "2024-05-16T06:02:47.113246Z",
     "start_time": "2024-05-16T06:02:47.105727Z"
    }
   },
   "cell_type": "code",
   "source": [
    "def create_val_dataset(positive_df, negative_df, n):\n",
    "    result = []\n",
    "    negative_grouped = negative_df.groupby('user_id')['item_id'].apply(list).to_dict()\n",
    "\n",
    "    for _, row in positive_df.iterrows():\n",
    "        user_id = row['user_id']\n",
    "        pos_item_id = row['item_id']\n",
    "        \n",
    "        neg_items = negative_grouped.get(user_id, [])\n",
    "        \n",
    "        if len(neg_items) < n:\n",
    "            raise ValueError(f\"Not enough negative samples for user {user_id}\")\n",
    "\n",
    "        sampled_neg_items = np.random.choice(neg_items, n, replace=False)\n",
    "        neg_item_ids = \"|\".join(map(str, sampled_neg_items))\n",
    "        \n",
    "        result.append({'user_id': user_id, 'pos_item_id': pos_item_id, 'neg_item_id': neg_item_ids})\n",
    "        \n",
    "    result_df = pd.DataFrame(result)\n",
    "    return result_df"
   ],
   "id": "71a5e4683032ae09",
   "outputs": [],
   "execution_count": 21
  },
  {
   "metadata": {
    "ExecuteTime": {
     "end_time": "2024-05-16T06:03:31.757850Z",
     "start_time": "2024-05-16T06:03:31.719036Z"
    }
   },
   "cell_type": "code",
   "source": "train_dataset.to_csv('ml-100k.train.csv', index=False, header=False)",
   "id": "eb698dbf11b0ed69",
   "outputs": [],
   "execution_count": 25
  },
  {
   "metadata": {
    "ExecuteTime": {
     "end_time": "2024-05-16T06:03:31.717226Z",
     "start_time": "2024-05-16T06:03:28.518932Z"
    }
   },
   "cell_type": "code",
   "source": "create_val_dataset(positive_df=val_dataset, negative_df=negative_dataset, n=99).to_csv('ml-100k.val.csv', index=False, header=False)",
   "id": "2b2fa3a11225b44b",
   "outputs": [],
   "execution_count": 24
  },
  {
   "metadata": {},
   "cell_type": "code",
   "outputs": [],
   "execution_count": null,
   "source": "",
   "id": "811b2e3dbd8299bb"
  }
 ],
 "metadata": {
  "kernelspec": {
   "display_name": "Python 3",
   "language": "python",
   "name": "python3"
  },
  "language_info": {
   "codemirror_mode": {
    "name": "ipython",
    "version": 2
   },
   "file_extension": ".py",
   "mimetype": "text/x-python",
   "name": "python",
   "nbconvert_exporter": "python",
   "pygments_lexer": "ipython2",
   "version": "2.7.6"
  }
 },
 "nbformat": 4,
 "nbformat_minor": 5
}
