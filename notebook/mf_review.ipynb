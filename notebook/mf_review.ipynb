{
 "cells": [
  {
   "metadata": {
    "ExecuteTime": {
     "end_time": "2024-05-16T07:01:16.585271Z",
     "start_time": "2024-05-16T07:01:15.006030Z"
    }
   },
   "cell_type": "code",
   "source": [
    "import pandas as pd\n",
    "import scipy.sparse as sp\n",
    "import torch\n",
    "import torch.nn as nn\n",
    "\n",
    "device = \"mps\""
   ],
   "id": "d2f67920a5a35a16",
   "outputs": [],
   "execution_count": 1
  },
  {
   "metadata": {
    "ExecuteTime": {
     "end_time": "2024-05-16T07:01:16.597086Z",
     "start_time": "2024-05-16T07:01:16.586809Z"
    }
   },
   "cell_type": "code",
   "source": [
    "demo_M = 4\n",
    "demo_N = 5\n",
    "\n",
    "demo_k = 2\n",
    "\n",
    "demo_Y_sparse_indices_df = pd.DataFrame([\n",
    "    [0, 0],\n",
    "    [0, 2],\n",
    "    [0, 3],\n",
    "    [1, 1],\n",
    "    [1, 4],\n",
    "    [2, 0],\n",
    "    [2, 1],\n",
    "    [2, 2],\n",
    "    [3, 3],\n",
    "    [3, 4],\n",
    "], columns=['user_id', 'item_id'])\n",
    "\n",
    "def build_Y(sparse_indices_df, _M, _N):\n",
    "    return sp.coo_matrix(([1.0] * len(sparse_indices_df), (sparse_indices_df['user_id'], sparse_indices_df['item_id'])), shape=(_M, _N))\n",
    "\n",
    "demo_Y = build_Y(demo_Y_sparse_indices_df, demo_M, demo_N)\n",
    "demo_Y.todense()"
   ],
   "id": "b8c41aaaa6c5d9d4",
   "outputs": [
    {
     "data": {
      "text/plain": [
       "matrix([[1., 0., 1., 1., 0.],\n",
       "        [0., 1., 0., 0., 1.],\n",
       "        [1., 1., 1., 0., 0.],\n",
       "        [0., 0., 0., 1., 1.]])"
      ]
     },
     "execution_count": 2,
     "metadata": {},
     "output_type": "execute_result"
    }
   ],
   "execution_count": 2
  },
  {
   "metadata": {
    "ExecuteTime": {
     "end_time": "2024-05-16T07:01:16.679009Z",
     "start_time": "2024-05-16T07:01:16.598196Z"
    }
   },
   "cell_type": "code",
   "source": [
    "demo_u = []\n",
    "demo_i = []\n",
    "demo_y = []\n",
    "demo_Y_dense = demo_Y.todense()\n",
    "for u in range(demo_Y.shape[0]):\n",
    "    for i in range(demo_Y.shape[1]):\n",
    "        demo_u.append(u)\n",
    "        demo_i.append(i)\n",
    "        demo_y.append([demo_Y_dense[u, i]])\n",
    "\n",
    "demo_u = torch.tensor(demo_u).to(device)\n",
    "demo_i = torch.tensor(demo_i).to(device)\n",
    "demo_y = torch.tensor(demo_y).to(device, dtype=torch.float)"
   ],
   "id": "a533ff3be87c5e89",
   "outputs": [],
   "execution_count": 3
  },
  {
   "metadata": {
    "ExecuteTime": {
     "end_time": "2024-05-16T07:05:07.497162Z",
     "start_time": "2024-05-16T07:05:07.468547Z"
    }
   },
   "cell_type": "code",
   "source": "demo_y",
   "id": "b442c8469cf7ac0b",
   "outputs": [
    {
     "data": {
      "text/plain": [
       "tensor([[1.],\n",
       "        [0.],\n",
       "        [1.],\n",
       "        [1.],\n",
       "        [0.],\n",
       "        [0.],\n",
       "        [1.],\n",
       "        [0.],\n",
       "        [0.],\n",
       "        [1.],\n",
       "        [1.],\n",
       "        [1.],\n",
       "        [1.],\n",
       "        [0.],\n",
       "        [0.],\n",
       "        [0.],\n",
       "        [0.],\n",
       "        [0.],\n",
       "        [1.],\n",
       "        [1.]], device='mps:0')"
      ]
     },
     "execution_count": 15,
     "metadata": {},
     "output_type": "execute_result"
    }
   ],
   "execution_count": 15
  },
  {
   "metadata": {
    "ExecuteTime": {
     "end_time": "2024-05-16T07:01:16.683949Z",
     "start_time": "2024-05-16T07:01:16.680052Z"
    }
   },
   "cell_type": "code",
   "source": [
    "class MF(nn.Module):\n",
    "    def __init__(self, M, N, embedding_dim):\n",
    "        super(MF, self).__init__()\n",
    "        \n",
    "        self.M = M\n",
    "        self.N = N\n",
    "        \n",
    "        self.embedding_dim = embedding_dim\n",
    "        \n",
    "        self.P = nn.Embedding(num_embeddings=self.M, embedding_dim=self.embedding_dim)\n",
    "        self.Q = nn.Embedding(num_embeddings=self.N, embedding_dim=self.embedding_dim)\n",
    "        \n",
    "        self.__init_weights()\n",
    "        \n",
    "    def __init_weights(self):\n",
    "        nn.init.normal_(self.P.weight, std=.01)\n",
    "        nn.init.normal_(self.Q.weight, std=.01)\n",
    "        \n",
    "    def forward(self, user_id, item_id):\n",
    "        p_u = self.P(user_id)\n",
    "        q_u = self.Q(item_id)\n",
    "        \n",
    "        multiplied = torch.multiply(p_u, q_u)\n",
    "        return torch.sum(multiplied, dim=-1).view(-1, 1)"
   ],
   "id": "40172901de3f3852",
   "outputs": [],
   "execution_count": 4
  },
  {
   "metadata": {
    "ExecuteTime": {
     "end_time": "2024-05-16T07:01:16.692247Z",
     "start_time": "2024-05-16T07:01:16.686114Z"
    }
   },
   "cell_type": "code",
   "source": [
    "demo_model = MF(demo_M, demo_N, embedding_dim=2).to(device)\n",
    "demo_model"
   ],
   "id": "14c0ab95ee704bee",
   "outputs": [
    {
     "data": {
      "text/plain": [
       "MF(\n",
       "  (P): Embedding(4, 2)\n",
       "  (Q): Embedding(5, 2)\n",
       ")"
      ]
     },
     "execution_count": 5,
     "metadata": {},
     "output_type": "execute_result"
    }
   ],
   "execution_count": 5
  },
  {
   "metadata": {
    "ExecuteTime": {
     "end_time": "2024-05-16T07:01:19.737380Z",
     "start_time": "2024-05-16T07:01:16.693226Z"
    }
   },
   "cell_type": "code",
   "source": [
    "demo_y_hat = demo_model.forward(demo_u, demo_i)\n",
    "demo_y_hat"
   ],
   "id": "96ad2564e3fede31",
   "outputs": [
    {
     "data": {
      "text/plain": [
       "tensor([[ 7.2953e-04],\n",
       "        [-3.9053e-04],\n",
       "        [-3.2063e-04],\n",
       "        [ 1.7342e-04],\n",
       "        [-4.1993e-04],\n",
       "        [ 2.7221e-04],\n",
       "        [-1.3812e-04],\n",
       "        [-1.2292e-04],\n",
       "        [ 9.3078e-05],\n",
       "        [-1.6131e-04],\n",
       "        [ 4.1065e-04],\n",
       "        [-1.5915e-04],\n",
       "        [-2.0672e-04],\n",
       "        [ 3.2406e-04],\n",
       "        [-2.7322e-04],\n",
       "        [-8.0520e-05],\n",
       "        [ 1.5752e-05],\n",
       "        [ 4.7216e-05],\n",
       "        [-1.2121e-04],\n",
       "        [ 6.2953e-05]], device='mps:0', grad_fn=<ViewBackward0>)"
      ]
     },
     "execution_count": 6,
     "metadata": {},
     "output_type": "execute_result"
    }
   ],
   "execution_count": 6
  },
  {
   "metadata": {
    "ExecuteTime": {
     "end_time": "2024-05-16T07:01:20.181256Z",
     "start_time": "2024-05-16T07:01:19.738235Z"
    }
   },
   "cell_type": "code",
   "source": [
    "demo_loss_function = nn.BCEWithLogitsLoss()\n",
    "demo_loss_function(demo_y_hat, demo_y).item()"
   ],
   "id": "f1538a509f043cc0",
   "outputs": [
    {
     "data": {
      "text/plain": [
       "0.6931270956993103"
      ]
     },
     "execution_count": 7,
     "metadata": {},
     "output_type": "execute_result"
    }
   ],
   "execution_count": 7
  },
  {
   "metadata": {
    "ExecuteTime": {
     "end_time": "2024-05-16T07:01:21.936967Z",
     "start_time": "2024-05-16T07:01:20.182336Z"
    }
   },
   "cell_type": "code",
   "source": [
    "learning_rate = 0.01\n",
    "demo_optimizer = torch.optim.Adam(demo_model.parameters(), lr=learning_rate)\n",
    "\n",
    "demo_model.train()\n",
    "\n",
    "epochs = 100\n",
    "for i in range(epochs):\n",
    "    demo_model.zero_grad()\n",
    "    demo_y_hat = demo_model(demo_u, demo_i)\n",
    "\n",
    "    loss = demo_loss_function(demo_y_hat, demo_y)\n",
    "    loss.backward()\n",
    "\n",
    "    print(loss.item())\n",
    "\n",
    "    demo_optimizer.step()"
   ],
   "id": "be50485654a57c89",
   "outputs": [
    {
     "name": "stdout",
     "output_type": "stream",
     "text": [
      "0.6931270956993103\n",
      "0.6930176019668579\n",
      "0.692825973033905\n",
      "0.6925336122512817\n",
      "0.692135751247406\n",
      "0.6916260719299316\n",
      "0.6909999251365662\n",
      "0.6902531981468201\n",
      "0.6893821358680725\n",
      "0.6883829236030579\n",
      "0.6872515082359314\n",
      "0.6859839558601379\n",
      "0.6845762133598328\n",
      "0.6830245852470398\n",
      "0.6813251376152039\n",
      "0.6794745326042175\n",
      "0.6774696111679077\n",
      "0.6753070950508118\n",
      "0.6729843020439148\n",
      "0.6704986691474915\n",
      "0.6678478717803955\n",
      "0.6650298833847046\n",
      "0.6620429158210754\n",
      "0.6588854193687439\n",
      "0.6555564403533936\n",
      "0.6520552635192871\n",
      "0.6483819484710693\n",
      "0.6445370316505432\n",
      "0.6405216455459595\n",
      "0.6363377571105957\n",
      "0.6319878697395325\n",
      "0.6274749636650085\n",
      "0.622802734375\n",
      "0.6179754137992859\n",
      "0.6129974722862244\n",
      "0.6078738570213318\n",
      "0.6026100516319275\n",
      "0.5972116589546204\n",
      "0.5916852951049805\n",
      "0.5860379338264465\n",
      "0.580277144908905\n",
      "0.5744110941886902\n",
      "0.568448007106781\n",
      "0.5623967051506042\n",
      "0.5562661290168762\n",
      "0.5500654578208923\n",
      "0.543803870677948\n",
      "0.5374908447265625\n",
      "0.5311356782913208\n",
      "0.5247476696968079\n",
      "0.5183362364768982\n",
      "0.5119102597236633\n",
      "0.5054787993431091\n",
      "0.49905022978782654\n",
      "0.4926326274871826\n",
      "0.48623353242874146\n",
      "0.4798599183559418\n",
      "0.4735181927680969\n",
      "0.46721377968788147\n",
      "0.460951566696167\n",
      "0.4547353684902191\n",
      "0.4485681653022766\n",
      "0.44245171546936035\n",
      "0.43638697266578674\n",
      "0.4303736686706543\n",
      "0.4244105815887451\n",
      "0.41849517822265625\n",
      "0.41262394189834595\n",
      "0.40679237246513367\n",
      "0.4009948670864105\n",
      "0.39522501826286316\n",
      "0.38947561383247375\n",
      "0.3837387263774872\n",
      "0.3780059516429901\n",
      "0.37226852774620056\n",
      "0.3665176033973694\n",
      "0.3607442378997803\n",
      "0.35493990778923035\n",
      "0.34909650683403015\n",
      "0.34320661425590515\n",
      "0.3372635245323181\n",
      "0.33126184344291687\n",
      "0.3251971900463104\n",
      "0.3190666437149048\n",
      "0.31286856532096863\n",
      "0.30660292506217957\n",
      "0.30027127265930176\n",
      "0.29387640953063965\n",
      "0.2874230444431305\n",
      "0.2809169292449951\n",
      "0.2743653953075409\n",
      "0.2677769958972931\n",
      "0.26116129755973816\n",
      "0.2545289099216461\n",
      "0.24789123237133026\n",
      "0.24126036465168\n",
      "0.23464885354042053\n",
      "0.22806954383850098\n",
      "0.22153544425964355\n",
      "0.21505947411060333\n"
     ]
    }
   ],
   "execution_count": 8
  },
  {
   "metadata": {
    "ExecuteTime": {
     "end_time": "2024-05-16T07:01:21.941226Z",
     "start_time": "2024-05-16T07:01:21.938185Z"
    }
   },
   "cell_type": "code",
   "source": "demo_model.eval()",
   "id": "f46552bc197aed2a",
   "outputs": [
    {
     "data": {
      "text/plain": [
       "MF(\n",
       "  (P): Embedding(4, 2)\n",
       "  (Q): Embedding(5, 2)\n",
       ")"
      ]
     },
     "execution_count": 9,
     "metadata": {},
     "output_type": "execute_result"
    }
   ],
   "execution_count": 9
  },
  {
   "metadata": {
    "ExecuteTime": {
     "end_time": "2024-05-16T07:01:22.035889Z",
     "start_time": "2024-05-16T07:01:21.942215Z"
    }
   },
   "cell_type": "code",
   "source": "demo_model.P.weight",
   "id": "59323ece4404393a",
   "outputs": [
    {
     "data": {
      "text/plain": [
       "Parameter containing:\n",
       "tensor([[-1.3109,  0.5936],\n",
       "        [ 1.2839, -0.6021],\n",
       "        [-0.6292,  1.3169],\n",
       "        [ 0.6260, -1.3087]], device='mps:0', requires_grad=True)"
      ]
     },
     "execution_count": 10,
     "metadata": {},
     "output_type": "execute_result"
    }
   ],
   "execution_count": 10
  },
  {
   "metadata": {
    "ExecuteTime": {
     "end_time": "2024-05-16T07:01:22.098676Z",
     "start_time": "2024-05-16T07:01:22.036951Z"
    }
   },
   "cell_type": "code",
   "source": "demo_model.Q.weight",
   "id": "45390f51d86cc313",
   "outputs": [
    {
     "data": {
      "text/plain": [
       "Parameter containing:\n",
       "tensor([[-1.1752,  1.1475],\n",
       "        [ 1.1846,  1.1855],\n",
       "        [-1.1316,  1.1542],\n",
       "        [-1.1752, -1.1759],\n",
       "        [ 1.1629, -1.1511]], device='mps:0', requires_grad=True)"
      ]
     },
     "execution_count": 11,
     "metadata": {},
     "output_type": "execute_result"
    }
   ],
   "execution_count": 11
  },
  {
   "metadata": {
    "ExecuteTime": {
     "end_time": "2024-05-16T07:01:22.323206Z",
     "start_time": "2024-05-16T07:01:22.099622Z"
    }
   },
   "cell_type": "code",
   "source": "demo_model.P.weight @ demo_model.Q.weight.T",
   "id": "4e9c4240944afa68",
   "outputs": [
    {
     "data": {
      "text/plain": [
       "tensor([[ 2.2217, -0.8491,  2.1686,  0.8424, -2.2077],\n",
       "        [-2.1997,  0.8071, -2.1478, -0.8008,  2.1861],\n",
       "        [ 2.2506,  0.8159,  2.2320, -0.8092, -2.2475],\n",
       "        [-2.2374, -0.8099, -2.2189,  0.8032,  2.2343]], device='mps:0',\n",
       "       grad_fn=<MmBackward0>)"
      ]
     },
     "execution_count": 12,
     "metadata": {},
     "output_type": "execute_result"
    }
   ],
   "execution_count": 12
  },
  {
   "metadata": {
    "ExecuteTime": {
     "end_time": "2024-05-16T07:01:22.326257Z",
     "start_time": "2024-05-16T07:01:22.324385Z"
    }
   },
   "cell_type": "code",
   "source": "",
   "id": "23fa203576c703ad",
   "outputs": [],
   "execution_count": 12
  }
 ],
 "metadata": {
  "kernelspec": {
   "display_name": "Python 3",
   "language": "python",
   "name": "python3"
  },
  "language_info": {
   "codemirror_mode": {
    "name": "ipython",
    "version": 2
   },
   "file_extension": ".py",
   "mimetype": "text/x-python",
   "name": "python",
   "nbconvert_exporter": "python",
   "pygments_lexer": "ipython2",
   "version": "2.7.6"
  }
 },
 "nbformat": 4,
 "nbformat_minor": 5
}
