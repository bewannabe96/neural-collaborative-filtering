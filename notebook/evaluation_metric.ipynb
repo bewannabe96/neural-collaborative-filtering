{
 "cells": [
  {
   "cell_type": "markdown",
   "id": "20cc6366a5df188b",
   "metadata": {},
   "source": [
    "- 검색 모델 평가 지표 비교하기 MRR | MAP | NDCG [https://kgw7401.tistory.com/90]"
   ]
  },
  {
   "cell_type": "code",
   "execution_count": 8,
   "id": "a6cebcd0ca246e3d",
   "metadata": {
    "ExecuteTime": {
     "end_time": "2024-05-16T05:35:26.246191Z",
     "start_time": "2024-05-16T05:35:26.240482Z"
    },
    "collapsed": true,
    "jupyter": {
     "outputs_hidden": true
    }
   },
   "outputs": [
    {
     "data": {
      "text/plain": [
       "<module 'evaluation' from '/Users/bewannabe/Documents/personal_project/collaborative-filtering/evaluation.py'>"
      ]
     },
     "execution_count": 8,
     "metadata": {},
     "output_type": "execute_result"
    }
   ],
   "source": [
    "import torch\n",
    "from code import evaluation"
   ]
  },
  {
   "cell_type": "code",
   "execution_count": 9,
   "id": "e2ed15645a7acd59",
   "metadata": {
    "ExecuteTime": {
     "end_time": "2024-05-16T05:35:26.345540Z",
     "start_time": "2024-05-16T05:35:26.342943Z"
    }
   },
   "outputs": [],
   "source": [
    "DEVICE = 'mps'"
   ]
  },
  {
   "cell_type": "code",
   "execution_count": 18,
   "id": "8499dc72859a7390",
   "metadata": {
    "ExecuteTime": {
     "end_time": "2024-05-16T05:41:55.305661Z",
     "start_time": "2024-05-16T05:41:55.293066Z"
    }
   },
   "outputs": [],
   "source": [
    "demo_sample = torch.tensor([\n",
    "    [1, 2, 3],\n",
    "    [4, 5, 6],\n",
    "    [7, 8, 9],\n",
    "    [10, 11, 12],\n",
    "]).to(DEVICE)\n",
    "\n",
    "demo_pos_item = torch.tensor([\n",
    "    [1],\n",
    "    [5],\n",
    "    [9],\n",
    "    [13],\n",
    "]).to(DEVICE)\n",
    "\n",
    "demo_item_size = demo_sample.size(1)\n",
    "demo_mask = demo_sample == demo_pos_item\n",
    "demo_indices = torch.arange(demo_item_size).to(DEVICE)\n",
    "demo_match_indices = torch.where(demo_mask, demo_indices, -1).max(dim=1, keepdim=True).values"
   ]
  },
  {
   "cell_type": "code",
   "execution_count": 25,
   "id": "initial_id",
   "metadata": {
    "ExecuteTime": {
     "end_time": "2024-05-16T07:41:52.353183Z",
     "start_time": "2024-05-16T07:41:52.211212Z"
    }
   },
   "outputs": [
    {
     "data": {
      "text/plain": [
       "tensor(0.7500, device='mps:0')"
      ]
     },
     "execution_count": 25,
     "metadata": {},
     "output_type": "execute_result"
    }
   ],
   "source": [
    "torch.mean(evaluation.get_hits(demo_match_indices))"
   ]
  },
  {
   "cell_type": "code",
   "execution_count": 20,
   "id": "bcbaa8d0e807fcad",
   "metadata": {
    "ExecuteTime": {
     "end_time": "2024-05-16T05:41:56.039576Z",
     "start_time": "2024-05-16T05:41:56.025070Z"
    }
   },
   "outputs": [
    {
     "data": {
      "text/plain": [
       "tensor(0.4583, device='mps:0')"
      ]
     },
     "execution_count": 20,
     "metadata": {},
     "output_type": "execute_result"
    }
   ],
   "source": [
    "torch.mean(evaluation.get_avg_precisions(demo_match_indices))"
   ]
  },
  {
   "cell_type": "code",
   "execution_count": 21,
   "id": "29d2bb1534d942a0",
   "metadata": {
    "ExecuteTime": {
     "end_time": "2024-05-16T05:41:56.511272Z",
     "start_time": "2024-05-16T05:41:56.498896Z"
    }
   },
   "outputs": [
    {
     "data": {
      "text/plain": [
       "tensor(0.5327, device='mps:0')"
      ]
     },
     "execution_count": 21,
     "metadata": {},
     "output_type": "execute_result"
    }
   ],
   "source": [
    "torch.mean(evaluation.get_norm_dcg(demo_match_indices))"
   ]
  },
  {
   "cell_type": "code",
   "execution_count": null,
   "id": "cab32bcf73facf20",
   "metadata": {},
   "outputs": [],
   "source": []
  }
 ],
 "metadata": {
  "kernelspec": {
   "display_name": "Python 3 (ipykernel)",
   "language": "python",
   "name": "python3"
  },
  "language_info": {
   "codemirror_mode": {
    "name": "ipython",
    "version": 3
   },
   "file_extension": ".py",
   "mimetype": "text/x-python",
   "name": "python",
   "nbconvert_exporter": "python",
   "pygments_lexer": "ipython3",
   "version": "3.11.9"
  }
 },
 "nbformat": 4,
 "nbformat_minor": 5
}
